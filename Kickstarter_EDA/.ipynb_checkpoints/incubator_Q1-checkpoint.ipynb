{
 "cells": [
  {
   "cell_type": "markdown",
   "metadata": {},
   "source": [
    "## Outcomes of 10 coin tosses"
   ]
  },
  {
   "cell_type": "code",
   "execution_count": 2,
   "metadata": {
    "collapsed": false
   },
   "outputs": [],
   "source": [
    "import numpy as np\n",
    "from itertools import groupby,combinations \n",
    "\n",
    "np.random.seed(42)\n",
    "\n",
    "def print_all(**kwargs):\n",
    "    for key, value in kwargs.items():\n",
    "        print(key + \": \" + value)\n",
    "def flip(p):\n",
    "    return 'H' if np.random.random() < p else 'T'\n",
    "def group_count(flips):\n",
    "        flips_str=\"\".join(flips)\n",
    "        lp=[(len(list(cs)),c) for c,cs in groupby(flips_str)]\n",
    "        return len(lp)\n",
    "\n",
    "\n",
    "trials=10\n",
    "N_sample=100000000\n",
    "p=0.6\n",
    "g_count=[]\n",
    "h_count=[]\n",
    "for i in range(N_sample):\n",
    "    flips = [flip(p) for i in range(trials)]\n",
    "    g_count.append(group_count(flips))\n",
    "    h_count.append(sum([x=='H' for x in flips]))\n",
    "#print(np.mean(g_count))\n",
    "#print(min(h_count))\n"
   ]
  },
  {
   "cell_type": "code",
   "execution_count": 3,
   "metadata": {
    "collapsed": false
   },
   "outputs": [],
   "source": [
    "g_countarr=np.array(g_count)# make a numpy array version of the output \n",
    "h_countarr=np.array(h_count)# make a numpy array version of the output"
   ]
  },
  {
   "cell_type": "markdown",
   "metadata": {},
   "source": [
    "The expected output after 10 tosses can be calculated by considering each outcome swithch as a random variable. after the first flip, there are 9 positions for such switch. The probablity of a switch is p(1-p). Therefore, "
   ]
  },
  {
   "cell_type": "code",
   "execution_count": 4,
   "metadata": {
    "collapsed": false
   },
   "outputs": [
    {
     "name": "stdout",
     "output_type": "stream",
     "text": [
      "The expected number of groups is 5.3200000000\n"
     ]
    }
   ],
   "source": [
    "print(\"The expected number of groups is %.10f\" % (1+2*(10-1)*p*(1-p)))"
   ]
  },
  {
   "cell_type": "markdown",
   "metadata": {},
   "source": [
    "I used hacker statistics for the other parts of the question. "
   ]
  },
  {
   "cell_type": "code",
   "execution_count": 5,
   "metadata": {
    "collapsed": false
   },
   "outputs": [
    {
     "name": "stdout",
     "output_type": "stream",
     "text": [
      "the probability of exceeding 6 groups after 10 tosses is 0.2267411100\n"
     ]
    }
   ],
   "source": [
    "print(\"the probability of exceeding 6 groups after 10 tosses is %.10f\" % (np.sum(g_countarr>6)/len(g_countarr)))"
   ]
  },
  {
   "cell_type": "code",
   "execution_count": 6,
   "metadata": {
    "collapsed": false
   },
   "outputs": [
    {
     "name": "stdout",
     "output_type": "stream",
     "text": [
      "the probability of exceeding 6 groups given we exceeded 5 groups after 10 tosses is 0.5017736818\n"
     ]
    }
   ],
   "source": [
    "prob=(np.sum(g_countarr>6)/np.sum(g_countarr>5))\n",
    "print(\"the probability of exceeding 6 groups given we exceeded 5 groups after 10 tosses is %.10f\" %prob)"
   ]
  },
  {
   "cell_type": "code",
   "execution_count": 8,
   "metadata": {
    "collapsed": false
   },
   "outputs": [
    {
     "name": "stdout",
     "output_type": "stream",
     "text": [
      "The probability of exceeding 5 groups and exceeding 5 heads after 10 tosses is 0.2388692500\n"
     ]
    }
   ],
   "source": [
    "ind=((h_countarr>5) & (g_countarr>5)) #index of outcomes with head >5 and groups>5\n",
    "print(\"The probability of exceeding 5 groups and exceeding 5 heads after 10 tosses is %.10f\" % (np.sum(ind)/len(g_countarr)))"
   ]
  },
  {
   "cell_type": "markdown",
   "metadata": {},
   "source": [
    "## Outcomes of 500 coin tosses"
   ]
  },
  {
   "cell_type": "code",
   "execution_count": null,
   "metadata": {
    "collapsed": false
   },
   "outputs": [],
   "source": [
    "import numpy as np\n",
    "from itertools import groupby,combinations \n",
    "\n",
    "np.random.seed(42)\n",
    "\n",
    "def print_all(**kwargs):\n",
    "    for key, value in kwargs.items():\n",
    "        print(key + \": \" + value)\n",
    "def flip(p):\n",
    "    return 'H' if np.random.random() < p else 'T'\n",
    "def group_count(flips):\n",
    "        flips_str=\"\".join(flips)\n",
    "        lp=[(len(list(cs)),c) for c,cs in groupby(flips_str)]\n",
    "        return len(lp)\n",
    "\n",
    "\n",
    "trials=10\n",
    "N_sample=100000000\n",
    "p=0.6\n",
    "g_count=[]\n",
    "h_count=[]\n",
    "for i in range(N_sample):\n",
    "    flips = [flip(p) for i in range(trials)]\n",
    "    g_count.append(group_count(flips))\n",
    "    h_count.append(sum([x=='H' for x in flips]))\n",
    "print(np.mean(g_count))\n",
    "print(min(h_count))\n"
   ]
  },
  {
   "cell_type": "code",
   "execution_count": 144,
   "metadata": {
    "collapsed": false
   },
   "outputs": [
    {
     "name": "stdout",
     "output_type": "stream",
     "text": [
      "0.224999\n",
      "10 trials 0.451985\n",
      "1.7418240000000003\n"
     ]
    }
   ],
   "source": [
    "g_countarr=np.array(g_count)\n",
    "h_countarr=np.array(h_count)\n",
    "numg=6\n",
    "print(np.mean(g_countarr==numg))\n",
    "print(\"10 trials\",np.mean(g_countarr>=numg))\n",
    "print(nCr(trials-1,numg-1)*((p)**(numg/2))*(1-p)**(numg/2))"
   ]
  },
  {
   "cell_type": "markdown",
   "metadata": {},
   "source": [
    "The expected output after 10 tosses can be calculated by considering each outcome swithch as a random variable. after the first flip, there are 9 positions for such switch. The probablity of a switch is p(1-p). Therefore, "
   ]
  },
  {
   "cell_type": "code",
   "execution_count": 139,
   "metadata": {
    "collapsed": false
   },
   "outputs": [
    {
     "name": "stdout",
     "output_type": "stream",
     "text": [
      "The expected number of groups is   5.319780\n",
      "5.319999999999999\n"
     ]
    }
   ],
   "source": [
    "print(\"The expected number of groups is %10f\" % 1+2*(10-1)*p*(1-p))"
   ]
  },
  {
   "cell_type": "markdown",
   "metadata": {},
   "source": [
    "I used hacker statistics for the other parts of the question. "
   ]
  },
  {
   "cell_type": "code",
   "execution_count": 126,
   "metadata": {
    "collapsed": false
   },
   "outputs": [
    {
     "data": {
      "text/plain": [
       "0.22658819999999999"
      ]
     },
     "execution_count": 126,
     "metadata": {},
     "output_type": "execute_result"
    }
   ],
   "source": [
    "print(\"the probability of exceeding 6 groups after 10 tosses is %10f\" % (np.sum(g_countarr>6)/len(g_countarr))"
   ]
  },
  {
   "cell_type": "code",
   "execution_count": 129,
   "metadata": {
    "collapsed": false
   },
   "outputs": [
    {
     "name": "stdout",
     "output_type": "stream",
     "text": [
      "The number of groups is larger than 6 with   0.501718 probablity given g>5 \n"
     ]
    }
   ],
   "source": [
    "prob=(np.sum(g_countarr>6)/np.sum(g_countarr>5))\n",
    "print(\"the probability of exceeding 6 groups given we exceeded 5 groups after 10 tosses is %10f\" %prob)"
   ]
  }
 ],
 "metadata": {
  "anaconda-cloud": {},
  "kernelspec": {
   "display_name": "Python [conda root]",
   "language": "python",
   "name": "conda-root-py"
  },
  "language_info": {
   "codemirror_mode": {
    "name": "ipython",
    "version": 3
   },
   "file_extension": ".py",
   "mimetype": "text/x-python",
   "name": "python",
   "nbconvert_exporter": "python",
   "pygments_lexer": "ipython3",
   "version": "3.5.2"
  }
 },
 "nbformat": 4,
 "nbformat_minor": 1
}
